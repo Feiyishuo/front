{
 "cells": [
  {
   "cell_type": "markdown",
   "metadata": {},
   "source": [
    "# 页面组件(Component)"
   ]
  },
  {
   "cell_type": "markdown",
   "metadata": {},
   "source": [
    "- 页面设计是非常繁琐的事情，Web页面尽管提供了最基本的HTML标签（Tag：也称标记）来完成页面最基本的构成元素，但是提供更加高级的UI元素封装可以简化页面实现的复杂度。Vue提供了组件封装机制：\n",
    "    - 注册一个组件\n",
    "        - 使用Vue的全局函数component实现注册\n",
    "    - 在HTML中使用组件\n",
    "        - 像HTML标签一样使用组件"
   ]
  },
  {
   "cell_type": "markdown",
   "metadata": {},
   "source": [
    "- Web页面模块化是开发者的需求，基本上所有Web框架都提供：\n",
    "    - Struts中Tag标签封装有页面模块化的框架；\n",
    "    - Spring框架中也有页面模块化封装；\n",
    "    - jQuery纯前端框架也提供模块化封装（通过样式分类封装实现）；"
   ]
  },
  {
   "cell_type": "markdown",
   "metadata": {},
   "source": [
    "## Vue.component函数与全局组件"
   ]
  },
  {
   "cell_type": "markdown",
   "metadata": {},
   "source": [
    "### 函数定义"
   ]
  },
  {
   "cell_type": "markdown",
   "metadata": {},
   "source": [
    "```JavaScript\n",
    "\n",
    "    Vue.component( id, [definition] )\n",
    "\n",
    "```"
   ]
  },
  {
   "cell_type": "markdown",
   "metadata": {},
   "source": [
    "- 参数说明：\n",
    "    - `id`：字符串类型，用来指定组件名\n",
    "    - `[definition]`：选项类型`{}`，遵循Vue的选项格式。\n",
    "        1. 数据选项\n",
    "            - data/props/propsData/computed/methods/watch\n",
    "        2. DOM选项\n",
    "            - el/template/render/renderError\n",
    "        3. 声明周期钩子选项\n",
    "            - beforeCreate/created/beforeMount/mounted/beforeUpdate/updated\n",
    "            - activated/deactivated/beforeDestroy/destroyed/errorCaptured\n",
    "        4. 资源选项\n",
    "            - directives/filters/compnents\n",
    "        5. 组合选项\n",
    "            - parent/mixins/extends/provide/inject\n",
    "        6. 其他选项\n",
    "            - name/delimiters/functional/model/inheritAttrs/comments"
   ]
  },
  {
   "cell_type": "markdown",
   "metadata": {},
   "source": [
    "### 使用例子"
   ]
  },
  {
   "cell_type": "markdown",
   "metadata": {},
   "source": [
    "```HTML\n",
    "<!DOCTYPE html>\n",
    "<html>\n",
    "<head>\n",
    "\t<meta charset=\"utf-8\">\n",
    "    <title>Vue 全局组件</title>\n",
    "\t<script src=\"vue.min.js\"></script>\n",
    "</head>\n",
    "<body>\n",
    "    <main id=\"main\">\n",
    "        <!--3. 使用新注册的组件-->\n",
    "        <mydiv></mydiv>\n",
    "    </main>\n",
    "\n",
    "    <script type=\"text/javascript\">\n",
    "        // 1.注册组件\n",
    "        Vue.component(\n",
    "            \"mydiv\",\n",
    "            {              // 选项格式：JSON对象格式\n",
    "                template: \"<div style='width:200px; height:200px;background-color:red;'>定制组件</div>\"\n",
    "            });\n",
    "        // 2. 创建Vue对象，该对象已经包含新注册的组件\n",
    "        var vm = new Vue(\n",
    "            {\n",
    "                el: \"#main\"\n",
    "            }\n",
    "        );\n",
    "\n",
    "    </script>\n",
    "\n",
    "</body>\n",
    "</html>\n",
    "\n",
    "```"
   ]
  },
  {
   "cell_type": "markdown",
   "metadata": {},
   "source": [
    "## components选项与局部组件"
   ]
  },
  {
   "cell_type": "markdown",
   "metadata": {},
   "source": [
    "- Vue对象的components选项用来定义（注册）局部组件；而且可以同时定义多个。语法格式与全局组件的定义一样。下面直接使用例子说明："
   ]
  },
  {
   "cell_type": "markdown",
   "metadata": {},
   "source": [
    "```HTML\n",
    "\n",
    "<!DOCTYPE html>\n",
    "<html>\n",
    "<head>\n",
    "\t<meta charset=\"utf-8\">\n",
    "    <title>Vue 局部组件</title>\n",
    "\t<script src=\"vue.min.js\"></script>\n",
    "</head>\n",
    "<body>\n",
    "    <main id=\"main\">\n",
    "        <!--2. 使用注册的局部组件-->\n",
    "        <mydiv></mydiv>\n",
    "        <yourdiv></yourdiv>\n",
    "    </main>\n",
    "\n",
    "    <script type=\"text/javascript\">\n",
    "        // 1. 注册局部组件（注册两个）\n",
    "        var vm = new Vue(\n",
    "            {\n",
    "                el: \"#main\",\n",
    "                components: {\n",
    "                    \"mydiv\":{              // 选项格式：JSON对象格式\n",
    "                        template: \"<div style='width:200px; height:200px;background-color:red;'>定制局部组件一</div>\"\n",
    "                    },\n",
    "                    \"yourdiv\":{              // 选项格式：JSON对象格式\n",
    "                        template: \"<div style='width:200px; height:200px;background-color:blue;'>定制局部组件二</div>\"\n",
    "                    },\n",
    "                }\n",
    "            }\n",
    "        );\n",
    "\n",
    "    </script>\n",
    "\n",
    "</body>\n",
    "</html>\n",
    "\n",
    "\n",
    "```"
   ]
  },
  {
   "cell_type": "markdown",
   "metadata": {},
   "source": [
    "## props选项与组件的属性"
   ]
  },
  {
   "cell_type": "markdown",
   "metadata": {},
   "source": [
    "### props语法说明"
   ]
  },
  {
   "cell_type": "markdown",
   "metadata": {},
   "source": [
    "```javascript\n",
    "\n",
    "    Array<string> | Object\n",
    "\n",
    "```\n",
    "\n",
    "- 语法说明：\n",
    "    - props的类型可以是如下两种：\n",
    "        1. 数组，用来指定属性列表\n",
    "        2. JSON对象，用来指定高级配置选项；选项包含：\n",
    "            1. type：可以是下列原生构造函数中的一种：String、Number、Boolean、Array、Object、Date、Function、Symbol、任何自定义构造函数、或上述内容组成的数组。会检查一个 prop 是否是给定的类型，否则抛出警告。\n",
    "            2. default：为该 prop 指定一个默认值。如果该 prop 没有被传入，则换做用这个值。对象或数组的默认值必须从一个工厂函数返回。\n",
    "            3. required：逻辑值true或者false，定义该 prop 是否是必填项。在非生产环境中，如果这个值为 truthy 且该 prop 没有被传入的，则一个控制台警告将会被抛出。\n",
    "            4. validator：自定义验证函数会将该 prop 的值作为唯一的参数代入。在非生产环境下，如果该函数返回一个 falsy 的值 (也就是验证失败)，一个控制台警告将会被抛出。\n",
    "            \n",
    "            \n",
    "- 说明：\n",
    "    - 如果只有type选项，可以直接使用。\n",
    "    - 其中的required在html宽松的语法下，不一定有效果；\n",
    "    - 对类型的约束在Boolean职情况下也比较宽松。"
   ]
  },
  {
   "cell_type": "markdown",
   "metadata": {},
   "source": [
    "### 数组的使用例子"
   ]
  },
  {
   "cell_type": "markdown",
   "metadata": {},
   "source": [
    "```HTML\n",
    "<!DOCTYPE html>\n",
    "<html>\n",
    "<head>\n",
    "\t<meta charset=\"utf-8\">\n",
    "    <title>Vue 组件数组属性</title>\n",
    "\t<script src=\"vue.min.js\"></script>\n",
    "</head>\n",
    "<body>\n",
    "    <main id=\"main\">\n",
    "        <!--3. 使用新注册的组件-->\n",
    "        <!--注意：定制组件的属性也可以绑定数据-->\n",
    "        <mydiv p1=\"属性-1\" p2=\"属性-2\"></mydiv>\n",
    "    </main>\n",
    "\n",
    "    <script type=\"text/javascript\">\n",
    "        // 1.注册组件\n",
    "        Vue.component(\n",
    "            \"mydiv\",\n",
    "            {              // 选项格式：JSON对象格式\n",
    "                template: \"<div style='width:200px; height:200px;background-color:red;'>定制组件:{{p1}}-{{p2}}</div>\",\n",
    "                props: [\"p1\",\"p2\"]\n",
    "            });\n",
    "        // 2. 创建Vue对象，该对象已经包含新注册的组件\n",
    "        var vm = new Vue(\n",
    "            {\n",
    "                el: \"#main\"\n",
    "            }\n",
    "        );\n",
    "\n",
    "    </script>\n",
    "\n",
    "</body>\n",
    "</html>\n",
    "\n",
    "```"
   ]
  },
  {
   "cell_type": "markdown",
   "metadata": {},
   "source": [
    "### 对象的使用例子"
   ]
  },
  {
   "cell_type": "markdown",
   "metadata": {},
   "source": [
    "```HTML\n",
    "<!DOCTYPE html>\n",
    "<html>\n",
    "<head>\n",
    "\t<meta charset=\"utf-8\">\n",
    "    <title>Vue 组件对象属性</title>\n",
    "\t<script src=\"vue.min.js\"></script>\n",
    "</head>\n",
    "<body>\n",
    "    <main id=\"main\">\n",
    "        <!--3. 使用新注册的组件-->\n",
    "        <!--注意：定制组件的属性也可以绑定数据-->\n",
    "        <mydiv p1=\"True\" p2=\"AAA\"></mydiv>\n",
    "        <mydiv p2=\"aaa\"></mydiv>\n",
    "    </main>\n",
    "\n",
    "    <script type=\"text/javascript\">\n",
    "        // 1.注册组件\n",
    "        Vue.component(\n",
    "            \"mydiv\",\n",
    "            {              // 选项格式：JSON对象格式\n",
    "                template: \"<div style='width:200px; height:200px;background-color:red;'>定制组件:{{p1}}-{{p2}}</div>\",\n",
    "                props: {\n",
    "                    p1: [Boolean,String],\n",
    "                    p2: {\n",
    "                        type:Number,\n",
    "                        default:30,\n",
    "                        required:true,\n",
    "                        validator:function (value){\n",
    "                            console.log('hello');\n",
    "                            return true;\n",
    "                        }\n",
    "                    }\n",
    "                }\n",
    "            });\n",
    "        // 2. 创建Vue对象，该对象已经包含新注册的组件\n",
    "        var vm = new Vue(\n",
    "            {\n",
    "                el: \"#main\"\n",
    "            }\n",
    "        );\n",
    "\n",
    "    </script>\n",
    "\n",
    "</body>\n",
    "</html>\n",
    "\n",
    "\n",
    "```"
   ]
  },
  {
   "cell_type": "markdown",
   "metadata": {},
   "source": [
    "## 组件的自定义事件"
   ]
  },
  {
   "cell_type": "markdown",
   "metadata": {},
   "source": [
    "- 自定义事件使用`$emit`指令触发事件\n",
    "\n",
    "- 注意：\n",
    "    - 组件的自定义事件只能定制的注册组件能处理；其他组件无法接收（原生的标记组件无法接收）；\n",
    "   "
   ]
  },
  {
   "cell_type": "markdown",
   "metadata": {},
   "source": [
    "### `$emit`的定义"
   ]
  },
  {
   "cell_type": "markdown",
   "metadata": {},
   "source": [
    "```javascript\n",
    "    vm.$emit( eventName, […args] )\n",
    "```\n",
    "\n",
    "- 参数说明\n",
    "    - eventName：事件名\n",
    "    - ` […args]`：传递给事件处理函数的参数；"
   ]
  },
  {
   "cell_type": "markdown",
   "metadata": {},
   "source": [
    "### 例子"
   ]
  },
  {
   "cell_type": "markdown",
   "metadata": {},
   "source": [
    "```HTML\n",
    "<!DOCTYPE html>\n",
    "<html>\n",
    "<head>\n",
    "\t<meta charset=\"utf-8\">\n",
    "    <title>Vue 组件对象属性</title>\n",
    "\t<script src=\"vue.min.js\"></script>\n",
    "</head>\n",
    "<body>\n",
    "    <div id=\"main\">\n",
    "        <mybutton v-on:myevent=\"myevent_handler\"></mybutton>\n",
    "        <!--下面的事件无法接收-->\n",
    "        <!--\n",
    "        <div v-on:myevent=\"myevent_handler\">被触发的按钮</div>   \n",
    "        -->\n",
    "    </div>\n",
    "\n",
    "    <script type=\"text/javascript\">\n",
    "        /*\n",
    "        组件的事件只能发送给自己，其他组件接收不到这个时间信号。\n",
    "        */\n",
    "\n",
    "        Vue.component(\n",
    "            \"mybutton\",\n",
    "            {              // 选项格式：JSON对象格式\n",
    "                template: \"<button v-on:click='click_handler'>点击</button>\",\n",
    "                methods: {\n",
    "                    click_handler: function(){\n",
    "                        this.$emit(\"myevent\");    // 抛出事件\n",
    "                    },\n",
    "                }\n",
    "            }\n",
    "        );\n",
    "        var vm = new Vue(\n",
    "            {\n",
    "                el: \"#main\",\n",
    "                data:{\n",
    "                    data1: \"数据\",\n",
    "                },\n",
    "                methods: {\n",
    "                    myevent_handler: function(){    // 事件处理函数\n",
    "                        alert(\"定制事件被触发！\");\n",
    "                    }\n",
    "                }\n",
    "            }\n",
    "        );\n",
    "\n",
    "    </script>\n",
    "\n",
    "</body>\n",
    "</html>\n",
    "\n",
    "```"
   ]
  },
  {
   "cell_type": "markdown",
   "metadata": {},
   "source": [
    "# 页面路由实现数据区导航"
   ]
  },
  {
   "cell_type": "markdown",
   "metadata": {},
   "source": [
    "- Vue的路由需要单独的库，下载地址：\n",
    "    - `https://unpkg.com/vue-router/dist/vue-router.js`"
   ]
  },
  {
   "cell_type": "markdown",
   "metadata": {},
   "source": [
    "- 页面路由主要管理页面链接导航，以及导航的会话历史数据与跟踪；如果仅仅是超链接，则使用比较简单。\n",
    "\n",
    "- 注意：\n",
    "    - 页面路由会添加`#`实现是内部锚点导航；"
   ]
  },
  {
   "cell_type": "markdown",
   "metadata": {},
   "source": [
    "## 使用路由实现链接"
   ]
  },
  {
   "cell_type": "markdown",
   "metadata": {},
   "source": [
    "- 使用vue-router的`<router-link>`定制标记即可；使用方式两个部分：\n",
    "    1. 使用`router-link`标记导航；\n",
    "    2. 挂载`router-link`到Vue环境；"
   ]
  },
  {
   "cell_type": "markdown",
   "metadata": {},
   "source": [
    "- 理由使用例子：\n",
    "\n",
    "```HTML\n",
    "<!DOCTYPE html>\n",
    "<html>\n",
    "<head>\n",
    "\t<meta charset=\"utf-8\">\n",
    "    <title>Vue-Router</title>\n",
    "    <script src=\"vue.min.js\"></script>\n",
    "    <script src=\"vue-router.js\"></script>\n",
    "</head>\n",
    "<body>\n",
    "    <div id=\"main\">\n",
    "        <!--1. 使用router实现导航菜单-->\n",
    "        <router-link to=\"/url1\">到组件1</router-link>\n",
    "        <router-link to=\"/url2\">到组件2</router-link>\n",
    "        <!--2. 导航组件显示区：渲染的位置-->\n",
    "        <br>\n",
    "        <router-view></router-view>\n",
    "    </div>\n",
    "    <script>\n",
    "        const target1 = {template:\"<button>链接1</button\"};\n",
    "        const target2 = {template:\"<input type='text' value='请输入'/>\"};\n",
    "        // 3. 定义router对象\n",
    "        const router = new VueRouter({\n",
    "            // mode: \"history\",    // 默认使用#实现锚点导航hash，history使用相对url导航（站点资源）。\n",
    "            routes: [\n",
    "                {path: '/url1', component: target1},\n",
    "                {path: '/url2', component: target2},\n",
    "            ],\n",
    "        });\n",
    "        // 4. 挂载router对象\n",
    "        var vm = new Vue({\n",
    "            router\n",
    "        }\n",
    "        ).$mount('#main');\n",
    "    </script>\n",
    "</body>\n",
    "</html>\n",
    "\n",
    "```"
   ]
  },
  {
   "cell_type": "markdown",
   "metadata": {},
   "source": [
    "- 说明：\n",
    "    - 导航还有很多内容，包括querystring等处理，链接嵌套等，这里暂时不介绍，仅仅了解router提供的设计模式的优点。"
   ]
  },
  {
   "cell_type": "markdown",
   "metadata": {},
   "source": [
    "## 使用html文件作为路由组件"
   ]
  },
  {
   "cell_type": "markdown",
   "metadata": {},
   "source": [
    "- 可以在router-link中直接使用外部html文件，但是需要设置下router的model。下面是例子：\n",
    "    - hash与hostory不能混用。"
   ]
  },
  {
   "cell_type": "markdown",
   "metadata": {},
   "source": [
    "```HTML\n",
    "<!DOCTYPE html>\n",
    "<html>\n",
    "<head>\n",
    "\t<meta charset=\"utf-8\">\n",
    "    <title>Vue-Router</title>\n",
    "    <script src=\"vue.min.js\"></script>\n",
    "    <script src=\"vue-router.js\"></script>\n",
    "    <link rel=\"shortcut icon\" href=\"#\" />\n",
    "</head>\n",
    "<body>\n",
    "    <div id=\"main\">\n",
    "        <!--1. 使用router实现导航菜单-->\n",
    "        <router-link to=\"./v01_vue_data.html\">到组件1</router-link>\n",
    "        <!--2. 导航组件显示区：渲染的位置-->\n",
    "        <br>\n",
    "        <router-view></router-view>\n",
    "    </div>\n",
    "    <script>\n",
    "        const target2 = {template:\"<input type='text' value='请输入'/>\"};\n",
    "        // 3. 定义router对象\n",
    "        const router = new VueRouter({\n",
    "            mode: \"history\",    // 默认使用#实现锚点hash导航，history使用相对url导航（站点资源）。\n",
    "        });\n",
    "        // 4. 挂载router对象\n",
    "        var vm = new Vue({\n",
    "            router\n",
    "        }\n",
    "        ).$mount('#main');\n",
    "    </script>\n",
    "</body>\n",
    "</html>\n",
    "\n",
    "```"
   ]
  },
  {
   "cell_type": "markdown",
   "metadata": {},
   "source": [
    "## 多视图路由\n",
    "\n",
    "- 可以一个路由url使用的是default组件，一个路由url可以绑定多个组件，每个组件指定名字，改名字可以对应显示在不同的视图中，下面是使用例子："
   ]
  },
  {
   "cell_type": "markdown",
   "metadata": {},
   "source": [
    "```HTML\n",
    "<!DOCTYPE html>\n",
    "<html>\n",
    "<head>\n",
    "\t<meta charset=\"utf-8\">\n",
    "    <title>Vue-Router</title>\n",
    "    <script src=\"vue.min.js\"></script>\n",
    "    <script src=\"vue-router.js\"></script>\n",
    "    <link rel=\"shortcut icon\" href=\"#\" />\n",
    "</head>\n",
    "<body>\n",
    "    <div id=\"main\">\n",
    "        <!--视图激活方式：（一）-->\n",
    "        <!-- <router-link to=\"/url1\">链接</router-link> -->\n",
    "        <router-view></router-view>\n",
    "        <router-view name=\"v1\"></router-view>\n",
    "        <router-view name=\"v2\"></router-view>\n",
    "    </div>\n",
    "    <script>\n",
    "        const target1 = {template:\"<button>链接1</button\"};\n",
    "        const target2 = {template:\"<input type='text' value='请输入'/>\"};\n",
    "        const target3 = {template:\"<hr>\"};\n",
    "        // 3. 定义router对象\n",
    "        const router = new VueRouter({\n",
    "            mode: \"hash\", \n",
    "            routes: [\n",
    "                {\n",
    "                    path: '/url1', \n",
    "                    components: {\n",
    "                        default: target1,\n",
    "                        v1: target2,\n",
    "                        v2:target3\n",
    "                    }\n",
    "                },\n",
    "            ],\n",
    "        });\n",
    "        // 4. 挂载router对象\n",
    "        var vm = new Vue({\n",
    "            router\n",
    "        }\n",
    "        ).$mount('#main');\n",
    "        // 激活方式：（二）\n",
    "        router.push(\"url1\");\n",
    "    </script>\n",
    "</body>\n",
    "</html>\n",
    "\n",
    "```"
   ]
  },
  {
   "cell_type": "markdown",
   "metadata": {},
   "source": [
    "# 说明"
   ]
  },
  {
   "cell_type": "markdown",
   "metadata": {},
   "source": [
    "- vue与vue-router只是解决了页面模块化问题，实际上并没有提供vue文件作为组件的功能与机制；\n",
    "    - 把vue文件作为组件的解决方案是vue-loader，他会对vue文件进行解析处理（主要处理html，css与javascript三个部分），vue-loader使用的是javascript服务器脚本ES6以上版本，这个需要专门的javascript运行环境，node.js就是Javascript的运行环境（号称Javascript虚拟机，与JVM同等地位）\n",
    "    - 使用浏览器javascript自己组织多个页面太痛苦了（python等服务器脚本语言目前还有ES6这种彪悍的对多个页面组织的封装框架），我们引入基于ES6的Web前端框架来解决多个页面组织的问题，那我们就需要了解下node.js，然后了解Webpack这个把多个文件组织其他提供给浏览器处理的框架技术：\n",
    "        - Webpack使用的就是vue-loader等来组织各种web资源的。"
   ]
  },
  {
   "cell_type": "markdown",
   "metadata": {},
   "source": [
    "----"
   ]
  }
 ],
 "metadata": {
  "kernelspec": {
   "display_name": "Python 3",
   "language": "python",
   "name": "python3"
  },
  "language_info": {
   "codemirror_mode": {
    "name": "ipython",
    "version": 3
   },
   "file_extension": ".py",
   "mimetype": "text/x-python",
   "name": "python",
   "nbconvert_exporter": "python",
   "pygments_lexer": "ipython3",
   "version": "3.8.3"
  },
  "toc": {
   "base_numbering": 1,
   "nav_menu": {},
   "number_sections": true,
   "sideBar": true,
   "skip_h1_title": false,
   "title_cell": "Table of Contents",
   "title_sidebar": "Contents",
   "toc_cell": false,
   "toc_position": {},
   "toc_section_display": true,
   "toc_window_display": true
  }
 },
 "nbformat": 4,
 "nbformat_minor": 2
}
