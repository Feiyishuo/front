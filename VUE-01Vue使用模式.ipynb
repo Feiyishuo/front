{
 "cells": [
  {
   "cell_type": "markdown",
   "metadata": {},
   "source": [
    "# 理解Vue对象"
   ]
  },
  {
   "cell_type": "markdown",
   "metadata": {},
   "source": [
    "- 静态Web开发不涉及后台数据动态处理，仅仅处理前端的Web UI，前端Web UI的技术构成主要三个部分：\n",
    "    1. HTML\n",
    "        - ：负责页面上的组件；\n",
    "        - ：HTML超文本标记语言，核心是标记（标记元素）\n",
    "    2. CSS\n",
    "        - ：负责修饰页面上的组件；\n",
    "        - ：级联式样式表，核心是样式（Style）与过滤器（负责绑定样式与HTML组件）\n",
    "    3. Javascript\n",
    "        - ：负责操作页面上的组件；"
   ]
  },
  {
   "cell_type": "markdown",
   "metadata": {},
   "source": [
    "- Vue是Javascript语言的封装，主要的目的是方便、快捷。这种封装是软件设计思想的体现；除了Vue封装，还有其他很多封装；\n",
    "    - Vue不管怎么封装，主要负责的还是Web组件的操作，这种操作包含多组件的修饰属性CCS"
   ]
  },
  {
   "cell_type": "markdown",
   "metadata": {},
   "source": [
    "- 三个部分的使用例子\n",
    "    - 没有使用CSS"
   ]
  },
  {
   "cell_type": "markdown",
   "metadata": {},
   "source": [
    "```HTML\n",
    "\n",
    "<!DOCTYPE html>\n",
    "<html>\n",
    "<head>\n",
    "\t<meta charset=\"utf-8\">\n",
    "    <title>Vue例子编程</title>\n",
    "    <!-- 1. 引入Vue的模块 -->\n",
    "\t<script src=\"vue.min.js\"></script>\n",
    "</head>\n",
    "<body>\n",
    "    <!-- 2. HTML组件-->\n",
    "    <div id=\"main\"> \n",
    "        <h1>数据访问 : {{data1}}</h1>\n",
    "        <h1>方法调用 : {{func1()}}</h1>\n",
    "    </div>\n",
    "    <!-- 3. Vue组件 -->\n",
    "    <script type=\"text/javascript\">\n",
    "        var vm = new Vue({\n",
    "            el: \"#main\",\n",
    "            data: {\n",
    "                data1: \"数据1\",\n",
    "                data2: \"数据2\"\n",
    "            },\n",
    "            methods: {\n",
    "                func1 : function(){\n",
    "                    return this.data2;\n",
    "                }\n",
    "            }\n",
    "        });\n",
    "    </script>\n",
    "</body>\n",
    "</html>\n",
    "\n",
    "```"
   ]
  },
  {
   "cell_type": "markdown",
   "metadata": {},
   "source": [
    "# Vue编程模式\n",
    "\n",
    "- 面向对象封装\n"
   ]
  },
  {
   "cell_type": "markdown",
   "metadata": {},
   "source": [
    "- Vue最核心的部分：\n",
    "    - el：\n",
    "        - Vue封装的数据与数据操作绑定的HTML组件；\n",
    "    - data：\n",
    "        - 与HTML组件关联的数据；\n",
    "    - method：\n",
    "        - 与HTML组件与HTML数据关联的操作；\n",
    "    - props：\n",
    "        - 与HTML组件关联的属性；\n",
    "    - propsData：\n",
    "        - 属性相关的数据；"
   ]
  },
  {
   "cell_type": "markdown",
   "metadata": {},
   "source": [
    "## data的使用"
   ]
  },
  {
   "cell_type": "markdown",
   "metadata": {},
   "source": [
    "### data的定义\n",
    "\n",
    "1. 类型：Object | Function\n",
    "2. 限制：组件的定义只接受 function。\n",
    "3. Vue 实例的数据对象\n",
    "    - Vue 将会递归将 data 的属性转换为 getter/setter，从而让 data 的属性能够响应数据变化。\n",
    "    - 对象必须是纯粹的对象 (含有零个或多个的 key/value 对)：浏览器 API 创建的原生对象，原型上的属性会被忽略。\n",
    "    - 大概来说，data 应该只能是数据 - 不推荐观察拥有状态行为的对象。"
   ]
  },
  {
   "cell_type": "markdown",
   "metadata": {},
   "source": [
    "### 访问方式\n",
    "\n",
    "1. 直接访问\n",
    "    - `vm.$data.数据成员`\n",
    "2. 代理访问\n",
    "    - `vm.数据成员`"
   ]
  },
  {
   "cell_type": "markdown",
   "metadata": {},
   "source": [
    "- 访问方式的例子：\n",
    "\n",
    "```HTML\n",
    "<!DOCTYPE html>\n",
    "<html>\n",
    "<head>\n",
    "\t<meta charset=\"utf-8\">\n",
    "    <title>Vue Data访问</title>\n",
    "\t<script src=\"vue.min.js\"></script>\n",
    "</head>\n",
    "<body>\n",
    "    <div id=\"main\"> \n",
    "        原始数据\n",
    "    </div>\n",
    "    <script type=\"text/javascript\">\n",
    "        var vm = new Vue({\n",
    "            el: \"#main\",\n",
    "            data: {\n",
    "                data1: \"数据1\",\n",
    "                data2: \"数据2\"\n",
    "            }\n",
    "        });\n",
    "    </script>\n",
    "    <script>\n",
    "        var main = document.getElementById(\"main\");\n",
    "        // 1. 直接访问\n",
    "        // main.innerHTML = vm.$data.data1\n",
    "        // 2. 代理访问\n",
    "        main.innerHTML = vm.data2\n",
    "    </script>\n",
    "</body>\n",
    "</html>\n",
    "\n",
    "\n",
    "```"
   ]
  },
  {
   "cell_type": "markdown",
   "metadata": {},
   "source": [
    "### template\n",
    "\n",
    "- template\n",
    "    - 类型：string\n",
    "    - 详细：\n",
    "        - 一个字符串模板作为 Vue 实例的标识使用。模板将会替换挂载的元素。\n",
    "        - 挂载元素的内容都将被忽略，除非模板的内容有分发插槽。\n",
    "        - 如果 render 函数和 template 属性都不存在，挂载 DOM 元素的 HTML 会被提取出来用作模板，此时，必须使用 Runtime + Compiler 构建的 Vue 库。\n",
    "        - Vue 选项中的 render 函数若存在，则 Vue 构造函数不会从 template 选项或通过 el 选项指定的挂载元素中提取出的 HTML 模板编译渲染函数。"
   ]
  },
  {
   "cell_type": "markdown",
   "metadata": {},
   "source": [
    "- 使用template的例子\n",
    "\n",
    "```HTML\n",
    "<!DOCTYPE html>\n",
    "<html>\n",
    "<head>\n",
    "\t<meta charset=\"utf-8\">\n",
    "    <title>Vue Data访问</title>\n",
    "\t<script src=\"vue.min.js\"></script>\n",
    "</head>\n",
    "<body>\n",
    "    <div id=\"main\"> \n",
    "        数据区\n",
    "    </div>\n",
    "\n",
    "    <script type=\"text/javascript\">\n",
    "        var vm = new Vue(\n",
    "            {\n",
    "                el: \"#main\",\n",
    "                template : \"<h1>Hello</h1>\"    // 会替换上面的div标记\n",
    "            }\n",
    "        );\n",
    "    </script>\n",
    "\n",
    "</body>\n",
    "</html>\n",
    "\n",
    "```"
   ]
  },
  {
   "cell_type": "markdown",
   "metadata": {},
   "source": [
    "### render"
   ]
  },
  {
   "cell_type": "markdown",
   "metadata": {},
   "source": [
    "- render\n",
    "    - 类型：(createElement: () => VNode) => VNode\n",
    "    - 详细：\n",
    "        - 字符串模板的代替方案，允许你发挥 JavaScript 最大的编程能力。\n",
    "        - 该渲染函数接收一个 createElement 方法作为第一个参数用来创建 VNode。\n",
    "        - 如果组件是一个函数组件，渲染函数还会接收一个额外的 context 参数，为没有实例的函数组件提供上下文信息。"
   ]
  },
  {
   "cell_type": "markdown",
   "metadata": {},
   "source": [
    "- render使用的例子：\n",
    "    - 有render优先使用render返回的组件；\n",
    "    - 没有render，优先使用template模板；\n",
    "    - 没有render与render，就使用挂载的组件来作为模板；"
   ]
  },
  {
   "cell_type": "markdown",
   "metadata": {},
   "source": [
    "```HTML\n",
    "<!DOCTYPE html>\n",
    "<html>\n",
    "<head>\n",
    "\t<meta charset=\"utf-8\">\n",
    "    <title>Vue Data访问</title>\n",
    "\t<script src=\"vue.min.js\"></script>\n",
    "</head>\n",
    "<body>\n",
    "    <div id=\"main\"> \n",
    "        数据区\n",
    "    </div>\n",
    "\n",
    "    <script type=\"text/javascript\">\n",
    "        var vm = new Vue(\n",
    "            {\n",
    "                el: \"#main\",\n",
    "                render: function(ce){\n",
    "                    return  ce(\n",
    "                        \"div\", \n",
    "                        {\n",
    "                            style: {\n",
    "                                width: '200px',\n",
    "                                height: '200px',\n",
    "                                background: '#FF0000',\n",
    "                                border: '1px solid #ccc'\n",
    "                            }\n",
    "                        },\n",
    "                    );   \n",
    "                }\n",
    "            }\n",
    "        );\n",
    "    </script>\n",
    "\n",
    "</body>\n",
    "</html>\n",
    "\n",
    "```"
   ]
  },
  {
   "cell_type": "markdown",
   "metadata": {},
   "source": [
    "## template模板的语法\n",
    "\n",
    "- template的使用Vue提供了一套专门的机制与语法，包括：\n",
    "    - Vue指令\n",
    "    - Vue特殊特性\n",
    "\n",
    "- 这里只是入门，在后面还有更加体系的说明，下面使用两种方式说明一下；\n",
    "    1. {{}}插值\n",
    "    2. v-html插值"
   ]
  },
  {
   "cell_type": "markdown",
   "metadata": {},
   "source": [
    "```HTML\n",
    "<!DOCTYPE html>\n",
    "<html>\n",
    "<head>\n",
    "\t<meta charset=\"utf-8\">\n",
    "    <title>Vue Data访问</title>\n",
    "\t<script src=\"vue.min.js\"></script>\n",
    "</head>\n",
    "<body>\n",
    "    <div id=\"main\"> \n",
    "        <button>{{data1}}</button><br>\n",
    "        <button v-html=\"data2\"></button>\n",
    "    </div>\n",
    "    <script type=\"text/javascript\">\n",
    "        var vm = new Vue({\n",
    "            el: \"#main\",\n",
    "            data: {\n",
    "                data1: \"数据1\",\n",
    "                data2: \"数据2\"\n",
    "            }\n",
    "        });\n",
    "    </script>\n",
    "</body>\n",
    "</html>\n",
    "\n",
    "```"
   ]
  },
  {
   "cell_type": "markdown",
   "metadata": {},
   "source": [
    "## 模板的编译\n",
    "\n",
    "- 实际上使用render创建组件，比较麻烦，Vue提供模板编译方式来提供更加快捷的方式。"
   ]
  },
  {
   "cell_type": "markdown",
   "metadata": {},
   "source": [
    "- complie函数\n",
    "\n",
    "```javascript\n",
    "    Vue.compile( template )\n",
    "```"
   ]
  },
  {
   "cell_type": "markdown",
   "metadata": {},
   "source": [
    "- 模板编译使用的例子\n",
    "\n",
    "```HTML\n",
    "<!DOCTYPE html>\n",
    "<html>\n",
    "<head>\n",
    "\t<meta charset=\"utf-8\">\n",
    "    <title>Vue Data访问</title>\n",
    "\t<script src=\"vue.min.js\"></script>\n",
    "</head>\n",
    "<body>\n",
    "    <div id=\"main\"> \n",
    "        <button>{{data1}}</button><br>\n",
    "        <button v-html=\"data2\"></button>\n",
    "    </div>\n",
    "    <script type=\"text/javascript\">\n",
    "        // var temp = Vue.compile(\"<span>{{data1}}</span>\");\n",
    "        var temp = Vue.compile(\"<span v-html='data2'></span>\");\n",
    "        console.log(temp);\n",
    "        var vm = new Vue({\n",
    "            el: \"#main\",\n",
    "            data: {\n",
    "                data1: \"数据1\",\n",
    "                data2: \"数据2\"\n",
    "            },\n",
    "            render: temp.render \n",
    "        });\n",
    "    </script>\n",
    "</body>\n",
    "</html>\n",
    "s\n",
    "\n",
    "```"
   ]
  },
  {
   "cell_type": "markdown",
   "metadata": {},
   "source": [
    "## 事件的使用\n",
    "\n",
    "-  事件的使用两个部分构成：\n",
    "    1. 使用methods定义事件函数\n",
    "    2. 使用v-on指令绑定时间"
   ]
  },
  {
   "cell_type": "markdown",
   "metadata": {},
   "source": [
    "- 事件绑定的例子：\n",
    "\n",
    "```HTML\n",
    "<!DOCTYPE html>\n",
    "<html>\n",
    "<head>\n",
    "\t<meta charset=\"utf-8\">\n",
    "    <title>Vue 事件绑定</title>\n",
    "\t<script src=\"vue.min.js\"></script>\n",
    "</head>\n",
    "<body>\n",
    "    <div id=\"main\"> \n",
    "        <button>{{data1}}</button><br>\n",
    "        <button v-html=\"data2\"></button>\n",
    "    </div>\n",
    "    <script type=\"text/javascript\">\n",
    "        // 绑定事件\n",
    "        var temp = Vue.compile(\"<span v-html='data2' v-on:click='func1'></span>\");\n",
    "        // \"<span v-html='data2' @click='func2'></span>\"\n",
    "        /*\n",
    "         @是v-on的缩写\n",
    "        */\n",
    "        console.log(temp);\n",
    "        var vm = new Vue({\n",
    "            el: \"#main\",\n",
    "            data: {\n",
    "                data1: \"数据1\",\n",
    "                data2: \"数据2\"\n",
    "            },\n",
    "            render: temp.render,\n",
    "            // 事件处理函数\n",
    "            methods: {\n",
    "                func1: function(){\n",
    "                    alert(\"事件处理！\");\n",
    "                }\n",
    "            },\n",
    "        });\n",
    "    </script>\n",
    "</body>\n",
    "</html>\n",
    "\n",
    "```"
   ]
  },
  {
   "cell_type": "markdown",
   "metadata": {},
   "source": [
    "- 说明：\n",
    "    - v-on可以缩写为@。"
   ]
  },
  {
   "cell_type": "markdown",
   "metadata": {},
   "source": [
    "## 标记特性设置\n",
    "\n",
    "- 使用v-bind:特性=\"\"来设置特性；\n",
    "    - 最常用的特性就是样式表了。\n",
    "        - `v-bind: style`\n",
    "    - 在这其中可以随意使用数据变量；"
   ]
  },
  {
   "cell_type": "markdown",
   "metadata": {},
   "source": [
    "- 标记特性设置的例子：\n",
    "\n",
    "```HTML\n",
    "<!DOCTYPE html>\n",
    "<html>\n",
    "<head>\n",
    "\t<meta charset=\"utf-8\">\n",
    "    <title>Vue Data访问</title>\n",
    "    <script src=\"vue.min.js\"></script>\n",
    "    <style>\n",
    "\n",
    "    </style>\n",
    "</head>\n",
    "<body>\n",
    "    <div id=\"main\" v-bind:style=\"{position:'absolute', width:w, height:h, background:redcolor}\"> \n",
    "\n",
    "    </div>\n",
    "    <script type=\"text/javascript\">\n",
    "        var vm = new Vue({\n",
    "            el: \"#main\",\n",
    "            data: {\n",
    "                redcolor: \"red\",\n",
    "                w: \"200px\",\n",
    "                h: \"200px\"\n",
    "            }\n",
    "        });\n",
    "    </script>\n",
    "</body>\n",
    "</html>\n",
    "\n",
    "```"
   ]
  },
  {
   "cell_type": "markdown",
   "metadata": {},
   "source": [
    "## 类与样式设置\n",
    "\n",
    "- `v-bind:class=\"值\"`"
   ]
  },
  {
   "cell_type": "markdown",
   "metadata": {},
   "source": [
    "- 例子代码：\n",
    "\n",
    "```HTML\n",
    "<!DOCTYPE html>\n",
    "<html>\n",
    "<head>\n",
    "\t<meta charset=\"utf-8\">\n",
    "    <title>Vue Class过滤器设置</title>\n",
    "    <script src=\"vue.min.js\"></script>\n",
    "    <style>\n",
    "        .cl{\n",
    "            background-color: red;\n",
    "            width: 200px;\n",
    "            height: 200px;\n",
    "        }\n",
    "    </style>\n",
    "</head>\n",
    "<body>\n",
    "    <!--style的样式不使用引号-->\n",
    "    <!--\n",
    "    <div id=\"main\" v-bind:class=\"{cl:'true'}\"> \n",
    "    -->\n",
    "    <div id=\"main\" v-bind:class=\"{cl:isok}\"> \n",
    "    </div>\n",
    "    <script type=\"text/javascript\">\n",
    "        var vm = new Vue({\n",
    "            el: \"#main\",\n",
    "            data: {\n",
    "                isok: true\n",
    "            }\n",
    "        });\n",
    "    </script>\n",
    "</body>\n",
    "</html>\n",
    "\n",
    "```"
   ]
  },
  {
   "cell_type": "markdown",
   "metadata": {},
   "source": [
    "----"
   ]
  }
 ],
 "metadata": {
  "kernelspec": {
   "display_name": "Python 3",
   "language": "python",
   "name": "python3"
  },
  "language_info": {
   "codemirror_mode": {
    "name": "ipython",
    "version": 3
   },
   "file_extension": ".py",
   "mimetype": "text/x-python",
   "name": "python",
   "nbconvert_exporter": "python",
   "pygments_lexer": "ipython3",
   "version": "3.8.3"
  },
  "toc": {
   "base_numbering": 1,
   "nav_menu": {},
   "number_sections": true,
   "sideBar": true,
   "skip_h1_title": false,
   "title_cell": "Table of Contents",
   "title_sidebar": "Contents",
   "toc_cell": false,
   "toc_position": {},
   "toc_section_display": true,
   "toc_window_display": true
  }
 },
 "nbformat": 4,
 "nbformat_minor": 2
}
